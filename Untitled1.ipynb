{
 "cells": [
  {
   "cell_type": "markdown",
   "id": "61263bb1",
   "metadata": {},
   "source": [
    "## Let's Keep Coding"
   ]
  },
  {
   "cell_type": "markdown",
   "id": "2759f5ab",
   "metadata": {},
   "source": [
    "# Here we go"
   ]
  },
  {
   "cell_type": "code",
   "execution_count": 1,
   "id": "de3156f5",
   "metadata": {},
   "outputs": [
    {
     "name": "stdout",
     "output_type": "stream",
     "text": [
      "Hello there, people\n"
     ]
    }
   ],
   "source": [
    "print(\"Hello there, people\")"
   ]
  },
  {
   "cell_type": "code",
   "execution_count": 2,
   "id": "b550a21d",
   "metadata": {},
   "outputs": [
    {
     "name": "stdout",
     "output_type": "stream",
     "text": [
      "This is the seventh day of Python coding\n"
     ]
    }
   ],
   "source": [
    "print(\"This is the seventh day of Python coding\")"
   ]
  },
  {
   "cell_type": "code",
   "execution_count": 3,
   "id": "819097e8",
   "metadata": {},
   "outputs": [
    {
     "name": "stdout",
     "output_type": "stream",
     "text": [
      "Let's go\n"
     ]
    }
   ],
   "source": [
    "print(\"Let's go\")"
   ]
  },
  {
   "cell_type": "code",
   "execution_count": 4,
   "id": "226ad98a",
   "metadata": {},
   "outputs": [
    {
     "name": "stdout",
     "output_type": "stream",
     "text": [
      "Let's try an 'if' code\n"
     ]
    }
   ],
   "source": [
    "print(\"Let's try an 'if' code\")"
   ]
  },
  {
   "cell_type": "code",
   "execution_count": 5,
   "id": "89ef08d5",
   "metadata": {},
   "outputs": [
    {
     "name": "stdout",
     "output_type": "stream",
     "text": [
      "x is greater than 5\n"
     ]
    }
   ],
   "source": [
    "x = 10\n",
    "if x > 5:\n",
    "    print(\"x is greater than 5\")\n",
    "else:\n",
    "    print(\"x is less than or equal to 5\")"
   ]
  },
  {
   "cell_type": "code",
   "execution_count": 7,
   "id": "7581180a",
   "metadata": {},
   "outputs": [
    {
     "name": "stdout",
     "output_type": "stream",
     "text": [
      "positive\n"
     ]
    }
   ],
   "source": [
    "n = 2\n",
    "if 2 < 0:\n",
    "    print(\"negative\")\n",
    "else:\n",
    "    print(\"positive\")"
   ]
  },
  {
   "cell_type": "code",
   "execution_count": 8,
   "id": "239cda94",
   "metadata": {},
   "outputs": [
    {
     "name": "stdout",
     "output_type": "stream",
     "text": [
      "let's try the 'for' code\n"
     ]
    }
   ],
   "source": [
    "print(\"let's try the 'for' code\")"
   ]
  },
  {
   "cell_type": "code",
   "execution_count": 9,
   "id": "b589fc9f",
   "metadata": {},
   "outputs": [
    {
     "name": "stdout",
     "output_type": "stream",
     "text": [
      "Vietman\n",
      "Israel\n",
      "Namibia\n"
     ]
    }
   ],
   "source": [
    "countries = [\"Vietman\", \"Israel\", \"Namibia\"]\n",
    "for countries in countries:\n",
    "    print(countries)"
   ]
  },
  {
   "cell_type": "code",
   "execution_count": 10,
   "id": "af9da572",
   "metadata": {},
   "outputs": [
    {
     "name": "stdout",
     "output_type": "stream",
     "text": [
      "Pixie, Bob, Mohawk, Mullet, Braids\n"
     ]
    }
   ],
   "source": [
    "hairstyles = [\"Pixie, Bob, Mohawk, Mullet, Braids\"]\n",
    "for hairstyles in hairstyles:\n",
    "    print(hairstyles)"
   ]
  },
  {
   "cell_type": "code",
   "execution_count": 11,
   "id": "f3bf898c",
   "metadata": {},
   "outputs": [
    {
     "name": "stdout",
     "output_type": "stream",
     "text": [
      "Lastly, let's try the 'while' code\n"
     ]
    }
   ],
   "source": [
    "print (\"Lastly, let's try the 'while' code\") "
   ]
  },
  {
   "cell_type": "code",
   "execution_count": 13,
   "id": "e3fb64ad",
   "metadata": {},
   "outputs": [
    {
     "name": "stdout",
     "output_type": "stream",
     "text": [
      "1\n",
      "2\n",
      "3\n",
      "4\n"
     ]
    }
   ],
   "source": [
    "n = 1\n",
    "while n < 5:\n",
    "    print(n)\n",
    "    n += 1"
   ]
  },
  {
   "cell_type": "code",
   "execution_count": 17,
   "id": "67039f3a",
   "metadata": {},
   "outputs": [
    {
     "name": "stdout",
     "output_type": "stream",
     "text": [
      "500\n",
      "550\n",
      "600\n",
      "650\n",
      "700\n",
      "750\n",
      "800\n",
      "850\n",
      "900\n",
      "950\n",
      "1000\n",
      "1050\n",
      "1100\n",
      "1150\n",
      "1200\n",
      "1250\n",
      "1300\n",
      "1350\n",
      "1400\n",
      "1450\n",
      "1500\n",
      "1550\n",
      "1600\n",
      "1650\n",
      "1700\n",
      "1750\n",
      "1800\n",
      "1850\n",
      "1900\n",
      "1950\n"
     ]
    }
   ],
   "source": [
    "x = 500\n",
    "while x < 2000:\n",
    "    print(x)\n",
    "    x += 50"
   ]
  },
  {
   "cell_type": "code",
   "execution_count": null,
   "id": "63d0c3da",
   "metadata": {},
   "outputs": [],
   "source": []
  }
 ],
 "metadata": {
  "kernelspec": {
   "display_name": "Python 3 (ipykernel)",
   "language": "python",
   "name": "python3"
  },
  "language_info": {
   "codemirror_mode": {
    "name": "ipython",
    "version": 3
   },
   "file_extension": ".py",
   "mimetype": "text/x-python",
   "name": "python",
   "nbconvert_exporter": "python",
   "pygments_lexer": "ipython3",
   "version": "3.11.2"
  }
 },
 "nbformat": 4,
 "nbformat_minor": 5
}
